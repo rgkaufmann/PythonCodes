{
 "cells": [
  {
   "cell_type": "markdown",
   "metadata": {},
   "source": [
    "# Relaxation methods for solving the Laplace or Poisson equation\n",
    "\n",
    "Consider the one-dimensional Laplace equation \n",
    "\n",
    "$$\\frac{d^2V}{dx^2}=0$$ \n",
    "\n",
    "which has the solution $V(x)=ax+b$, where $a$ and $b$ are constants determined by the boundary conditions. A common strategy for solving such a differential equation numerically is to start with an initial guess for the solution, and then gradually \"relax\" this guess towards the true solution through iteration. One way to do this is with the so-called \"Gauss-Seidel\" update rule. First we discretize the solution along the domain of interest, $x=j*h$, where $h$ is the step size. We fix the solution at the end points and update the values in between from iteration step $n$ to $n+1$ according to the equation\n",
    "\n",
    "$$V_j^{n+1}=(V_{j+1}^n+V_{j-1}^{n+1})/2.$$ \n",
    "\n",
    "The sample program below illustrates this method for a choice of $V_0 = 0$ and $V_N = 10$. You can see how the (quite bad) initial guess evolves towards the correct solution as n increases."
   ]
  },
  {
   "cell_type": "code",
   "execution_count": 1,
   "metadata": {},
   "outputs": [],
   "source": [
    "import numpy as np\n",
    "import matplotlib.pyplot as plt\n",
    "\n",
    "a,b = 0,10   ## Values of potential on boundary\n",
    "N = 10       ## Number of steps we intend to take, which includes the last point\n",
    "\n",
    "x = np.linspace(a,b,N)  ## Locations where we intend to solve the problem\n",
    "V = np.zeros(N)         ## Place holder for V where all the guesses are zero\n",
    "\n",
    "## Setting the boundary values\n",
    "V[0] = a\n",
    "V[N-1] = b\n",
    "\n",
    "plt.figure(figsize = (8,6))\n",
    "plt.plot(x,V)\n",
    "plt.xlabel('x')\n",
    "plt.ylabel('V')\n",
    "plt.axis([x[0],x[N-1],V[0],V[N-1]]);\n",
    "#plt.show()\n",
    "\n",
    "## Compute the solution for 20 iterations and plot each result showing convergence\n",
    "for j in range(1,100):    \n",
    "    ## Compute the update (notice the end points are left out)\n",
    "    for i in range(1,len(V)-1):\n",
    "        V[i]=0.5*(V[i-1]+V[i+1])    \n",
    "    plt.plot(x,V)\n",
    "#    plt.show()\n",
    "    \n"
   ]
  },
  {
   "cell_type": "markdown",
   "metadata": {},
   "source": [
    "# Assignment\n",
    "\n",
    "Generalize the procedure described above to two dimensions and solve in a compuational domain of size $N=50$\n",
    "\n",
    "1. the Laplace equation $$\\Delta V(r)=0$$\n",
    "with the boundary conditions $V(x,0)=V(x,N)=\\sin(\\pi x/N)$ and $V(0,y)=V(N,y)=\\sin(\\pi y/N)$.\n",
    "\n",
    "\n",
    "2. the Poisson equation $$\\Delta V(r)=\\delta^2 (r)=\\delta(x)\\delta(y)$$\n",
    "i.e. place a unit charge at the origin. Set $V(x,y)=0$ everywhere on the boundary.\n",
    "\n",
    "Present your answer by visualizing the 2D array $V(x,y)$. One quick way to do this is to use the matplotlib function ${\\tt pcolor(V)}$, which creates a colour plot on a grid with the colour representing the local value of V.  \n"
   ]
  },
  {
   "cell_type": "code",
   "execution_count": 2,
   "metadata": {},
   "outputs": [
    {
     "data": {
      "image/png": "[encoded data removed]",
      "text/plain": [
       "<matplotlib.figure.Figure at 0x21aaba77d68>"
      ]
     },
     "metadata": {},
     "output_type": "display_data"
    }
   ],
   "source": [
    "N = 50       ## Number of steps we intend to take, which includes the last point\n",
    "\n",
    "x = np.linspace(a,b,N)  ## Locations where we intend to solve the problem\n",
    "V = np.zeros((N,N))         ## Place holder for V where all the guesses are zero\n",
    "\n",
    "## Setting the boundary values\n",
    "for i in range(0,N):            \n",
    "    V[i,0] = np.sin((i/N)*np.pi)\n",
    "    V[0,i] = np.sin((i/N)*np.pi)\n",
    "    V[i,N-1] = np.sin((i/N)*np.pi)\n",
    "    V[N-1,i] = np.sin((i/N)*np.pi)     \n",
    "\n",
    "## Compute the solution\n",
    "for k in range(0,100):    \n",
    "    ## Compute the update (notice the end points are left out)\n",
    "    for i in range(1,N-1):\n",
    "        for j in range(1,N-1):\n",
    "            V[j,i]=0.25*(V[j,i-1]+V[j,i+1]+V[j+1,i]+V[j-1,i])\n",
    "            \n",
    "plt.figure(figsize = (8,8))\n",
    "plt.pcolor(V);\n"
   ]
  },
  {
   "cell_type": "code",
   "execution_count": 3,
   "metadata": {},
   "outputs": [
    {
     "data": {
      "image/png": "[encoded data removed]",
      "text/plain": [
       "<matplotlib.figure.Figure at 0x21aaa4b42e8>"
      ]
     },
     "metadata": {},
     "output_type": "display_data"
    }
   ],
   "source": [
    "a,b = 0,0   ## Values of potential on boundary\n",
    "N = 50       ## Number of steps we intend to take, which includes the last point\n",
    "h = (b-a)/N  ## Step size\n",
    "\n",
    "x = np.linspace(a,b,N)  ## Locations where we intend to solve the problem\n",
    "V = np.zeros((N,N))         ## Place holder for V where all the guesses are zero\n",
    "rho = np.zeros((N,N))\n",
    "\n",
    "## Setting the boundary values\n",
    "for i in range(0,N):            \n",
    "    V[i,0] = a\n",
    "    V[0,i] = a\n",
    "    V[i,N-1] = b\n",
    "    V[N-1,i] = b   \n",
    "\n",
    "## Set charge density  \n",
    "rho[int(N/2),int(N/2)]=1\n",
    "  \n",
    "## Compute the solution\n",
    "for k in range(0,100):    \n",
    "    ## Compute the update (notice the end points are left out)\n",
    "    for i in range(1,N-1):\n",
    "        for j in range(1,N-1):\n",
    "            V[j,i]=0.25*(V[j,i-1]+V[j,i+1]+V[j+1,i]+V[j-1,i]-rho[j,i])\n",
    "            \n",
    "plt.figure(figsize = (8,8))\n",
    "plt.pcolor(V)\n",
    "plt.colorbar();"
   ]
  },
  {
   "cell_type": "code",
   "execution_count": null,
   "metadata": {},
   "outputs": [],
   "source": []
  }
 ],
 "metadata": {
  "kernelspec": {
   "display_name": "Python 3",
   "language": "python",
   "name": "python3"
  },
  "language_info": {
   "codemirror_mode": {
    "name": "ipython",
    "version": 3
   },
   "file_extension": ".py",
   "mimetype": "text/x-python",
   "name": "python",
   "nbconvert_exporter": "python",
   "pygments_lexer": "ipython3",
   "version": "3.6.4"
  }
 },
 "nbformat": 4,
 "nbformat_minor": 2
}
